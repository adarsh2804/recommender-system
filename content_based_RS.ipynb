{
 "cells": [
  {
   "cell_type": "markdown",
   "metadata": {},
   "source": [
   ]
  },
  {
   "cell_type": "code",
   "execution_count": 1,
   "metadata": {
    "id": "de12e1fb"
   },
   "outputs": [],
   "source": [
    "import pandas as pd\n",
    "import numpy as np\n",
    "from sklearn.metrics.pairwise import cosine_similarity"
   ]
  },
  {
   "cell_type": "code",
   "execution_count": 250,
   "metadata": {
    "colab": {
     "base_uri": "https://localhost:8080/",
     "height": 206
    },
    "id": "867a5050",
    "outputId": "8c0f1980-8809-4ca5-9404-f3d509b9d82d",
    "scrolled": true
   },
   "outputs": [
    {
     "data": {
      "text/html": [
       "<div>\n",
       "<style scoped>\n",
       "    .dataframe tbody tr th:only-of-type {\n",
       "        vertical-align: middle;\n",
       "    }\n",
       "\n",
       "    .dataframe tbody tr th {\n",
       "        vertical-align: top;\n",
       "    }\n",
       "\n",
       "    .dataframe thead th {\n",
       "        text-align: right;\n",
       "    }\n",
       "</style>\n",
       "<table border=\"1\" class=\"dataframe\">\n",
       "  <thead>\n",
       "    <tr style=\"text-align: right;\">\n",
       "      <th></th>\n",
       "      <th>movieId</th>\n",
       "      <th>title</th>\n",
       "      <th>genres</th>\n",
       "    </tr>\n",
       "  </thead>\n",
       "  <tbody>\n",
       "    <tr>\n",
       "      <th>0</th>\n",
       "      <td>1</td>\n",
       "      <td>Toy Story (1995)</td>\n",
       "      <td>Adventure|Animation|Children|Comedy|Fantasy</td>\n",
       "    </tr>\n",
       "    <tr>\n",
       "      <th>1</th>\n",
       "      <td>2</td>\n",
       "      <td>Jumanji (1995)</td>\n",
       "      <td>Adventure|Children|Fantasy</td>\n",
       "    </tr>\n",
       "    <tr>\n",
       "      <th>2</th>\n",
       "      <td>3</td>\n",
       "      <td>Grumpier Old Men (1995)</td>\n",
       "      <td>Comedy|Romance</td>\n",
       "    </tr>\n",
       "    <tr>\n",
       "      <th>3</th>\n",
       "      <td>4</td>\n",
       "      <td>Waiting to Exhale (1995)</td>\n",
       "      <td>Comedy|Drama|Romance</td>\n",
       "    </tr>\n",
       "    <tr>\n",
       "      <th>4</th>\n",
       "      <td>5</td>\n",
       "      <td>Father of the Bride Part II (1995)</td>\n",
       "      <td>Comedy</td>\n",
       "    </tr>\n",
       "  </tbody>\n",
       "</table>\n",
       "</div>"
      ],
      "text/plain": [
       "   movieId                               title  \\\n",
       "0        1                    Toy Story (1995)   \n",
       "1        2                      Jumanji (1995)   \n",
       "2        3             Grumpier Old Men (1995)   \n",
       "3        4            Waiting to Exhale (1995)   \n",
       "4        5  Father of the Bride Part II (1995)   \n",
       "\n",
       "                                        genres  \n",
       "0  Adventure|Animation|Children|Comedy|Fantasy  \n",
       "1                   Adventure|Children|Fantasy  \n",
       "2                               Comedy|Romance  \n",
       "3                         Comedy|Drama|Romance  \n",
       "4                                       Comedy  "
      ]
     },
     "execution_count": 250,
     "metadata": {},
     "output_type": "execute_result"
    }
   ],
   "source": [
    "#loading the movies dataset\n",
    "movies_data = pd.read_csv(\"movies.csv\")\n",
    "movies_data.head()"
   ]
  },
  {
   "cell_type": "markdown",
   "metadata": {
    "id": "edeec53e"
   },
   "source": [
    "#### Since the year of movie is given in title, extracting the year and making a new column of it. This will help in finding the similarity between the movies as the user may be interested in watching movie of a paricular year or more specifically a paricular time period. A new column in the dataset named 'year' is created."
   ]
  },
  {
   "cell_type": "code",
   "execution_count": 251,
   "metadata": {},
   "outputs": [],
   "source": [
    "movies_data['title'] = movies_data['title'].apply(lambda x: x.strip())  # removing whitespace at the end of title"
   ]
  },
  {
   "cell_type": "code",
   "execution_count": 252,
   "metadata": {},
   "outputs": [],
   "source": [
    "# Extracting the year from movie title in a list\n",
    "year_list = []\n",
    "for movie in movies_data[\"title\"]:\n",
    "    year_list.append(movie[-5:-1])"
   ]
  },
  {
   "cell_type": "code",
   "execution_count": 253,
   "metadata": {},
   "outputs": [
    {
     "data": {
      "text/html": [
       "<div>\n",
       "<style scoped>\n",
       "    .dataframe tbody tr th:only-of-type {\n",
       "        vertical-align: middle;\n",
       "    }\n",
       "\n",
       "    .dataframe tbody tr th {\n",
       "        vertical-align: top;\n",
       "    }\n",
       "\n",
       "    .dataframe thead th {\n",
       "        text-align: right;\n",
       "    }\n",
       "</style>\n",
       "<table border=\"1\" class=\"dataframe\">\n",
       "  <thead>\n",
       "    <tr style=\"text-align: right;\">\n",
       "      <th></th>\n",
       "      <th>movieId</th>\n",
       "      <th>title</th>\n",
       "      <th>genres</th>\n",
       "      <th>year</th>\n",
       "    </tr>\n",
       "  </thead>\n",
       "  <tbody>\n",
       "    <tr>\n",
       "      <th>242</th>\n",
       "      <td>280</td>\n",
       "      <td>Murder in the First (1995)</td>\n",
       "      <td>Drama|Thriller</td>\n",
       "      <td>1995</td>\n",
       "    </tr>\n",
       "    <tr>\n",
       "      <th>3683</th>\n",
       "      <td>5073</td>\n",
       "      <td>Son's Room, The (Stanza del figlio, La) (2001)</td>\n",
       "      <td>Drama</td>\n",
       "      <td>2001</td>\n",
       "    </tr>\n",
       "    <tr>\n",
       "      <th>9060</th>\n",
       "      <td>142115</td>\n",
       "      <td>The Blue Planet (2001)</td>\n",
       "      <td>Documentary</td>\n",
       "      <td>2001</td>\n",
       "    </tr>\n",
       "    <tr>\n",
       "      <th>1581</th>\n",
       "      <td>2120</td>\n",
       "      <td>Needful Things (1993)</td>\n",
       "      <td>Drama|Horror</td>\n",
       "      <td>1993</td>\n",
       "    </tr>\n",
       "    <tr>\n",
       "      <th>2653</th>\n",
       "      <td>3551</td>\n",
       "      <td>Marathon Man (1976)</td>\n",
       "      <td>Crime|Drama|Thriller</td>\n",
       "      <td>1976</td>\n",
       "    </tr>\n",
       "  </tbody>\n",
       "</table>\n",
       "</div>"
      ],
      "text/plain": [
       "      movieId                                           title  \\\n",
       "242       280                      Murder in the First (1995)   \n",
       "3683     5073  Son's Room, The (Stanza del figlio, La) (2001)   \n",
       "9060   142115                          The Blue Planet (2001)   \n",
       "1581     2120                           Needful Things (1993)   \n",
       "2653     3551                             Marathon Man (1976)   \n",
       "\n",
       "                    genres  year  \n",
       "242         Drama|Thriller  1995  \n",
       "3683                 Drama  2001  \n",
       "9060           Documentary  2001  \n",
       "1581          Drama|Horror  1993  \n",
       "2653  Crime|Drama|Thriller  1976  "
      ]
     },
     "execution_count": 253,
     "metadata": {},
     "output_type": "execute_result"
    }
   ],
   "source": [
    "# year column is added in the dataset\n",
    "movies_data[\"year\"] = year_list\n",
    "movies_data.sample(5)"
   ]
  },
  {
   "cell_type": "code",
   "execution_count": 254,
   "metadata": {},
   "outputs": [
    {
     "data": {
      "text/plain": [
       "'1995'"
      ]
     },
     "execution_count": 254,
     "metadata": {},
     "output_type": "execute_result"
    }
   ],
   "source": [
    "movies_data.iloc[10,3]          # year column is in string"
   ]
  },
  {
   "cell_type": "markdown",
   "metadata": {},
   "source": [
    "#### The year column is in string. Converting into the int format. For some rows it will give error because some movie title are not having year in it. So the above logic of extracting year will extract characters which cannot be converted into int for those movies. Therefore, those movies are taken in another list by using try and except."
   ]
  },
  {
   "cell_type": "code",
   "execution_count": 255,
   "metadata": {
    "colab": {
     "base_uri": "https://localhost:8080/"
    },
    "id": "02cef34a",
    "outputId": "2f7ac463-79ec-47fd-9582-23c571eac071"
   },
   "outputs": [
    {
     "data": {
      "text/plain": [
       "12"
      ]
     },
     "execution_count": 255,
     "metadata": {},
     "output_type": "execute_result"
    }
   ],
   "source": [
    "# Those years which cannot be converted in string is taken in another list\n",
    "not_converted = []\n",
    "for i in range(len(year_list)):\n",
    "    try:\n",
    "        year_list[i] = int(year_list[i])  # which can be converted into int\n",
    "    except:\n",
    "        not_converted.append(i)           # which cannot be converted into int\n",
    "len(not_converted)"
   ]
  },
  {
   "cell_type": "code",
   "execution_count": 256,
   "metadata": {},
   "outputs": [
    {
     "data": {
      "text/plain": [
       "[6059, 9031, 9091, 9138, 9179, 9259, 9367, 9448, 9514, 9515, 9525, 9611]"
      ]
     },
     "execution_count": 256,
     "metadata": {},
     "output_type": "execute_result"
    }
   ],
   "source": [
    "not_converted"
   ]
  },
  {
   "cell_type": "code",
   "execution_count": 257,
   "metadata": {},
   "outputs": [
    {
     "data": {
      "text/plain": [
       "movieId        40697\n",
       "title      Babylon 5\n",
       "genres        Sci-Fi\n",
       "year            lon \n",
       "Name: 6059, dtype: object"
      ]
     },
     "execution_count": 257,
     "metadata": {},
     "output_type": "execute_result"
    }
   ],
   "source": [
    "movies_data.iloc[6059]"
   ]
  },
  {
   "cell_type": "code",
   "execution_count": 258,
   "metadata": {
    "colab": {
     "base_uri": "https://localhost:8080/"
    },
    "id": "15cf5677",
    "outputId": "832488f5-d4eb-40af-9085-786c68c176fa",
    "scrolled": true
   },
   "outputs": [
    {
     "name": "stdout",
     "output_type": "stream",
     "text": [
      "6059\n",
      "9031\n",
      "9091\n",
      "9138\n",
      "9179\n",
      "9259\n",
      "9367\n",
      "9448\n",
      "9514\n",
      "9515\n",
      "9525\n",
      "9611\n"
     ]
    },
    {
     "data": {
      "text/plain": [
       "['Babylon 5',\n",
       " 'Ready Player One',\n",
       " 'Hyena Road',\n",
       " 'The Adventures of Sherlock Holmes and Doctor Watson',\n",
       " 'Nocturnal Animals',\n",
       " 'Paterson',\n",
       " 'Moonlight',\n",
       " 'The OA',\n",
       " 'Cosmos',\n",
       " 'Maria Bamford: Old Baby',\n",
       " 'Generation Iron 2',\n",
       " 'Black Mirror']"
      ]
     },
     "execution_count": 258,
     "metadata": {},
     "output_type": "execute_result"
    }
   ],
   "source": [
    "# index and title of movies whose year is not converted into int\n",
    "movies_without_year = []\n",
    "for i in not_converted:\n",
    "    movies_without_year.append(movies_data.iloc[i,1])\n",
    "    print(i)\n",
    "movies_without_year"
   ]
  },
  {
   "cell_type": "markdown",
   "metadata": {},
   "source": [
    "#### The movies which do not have year, for them imputation is done with the median value of year."
   ]
  },
  {
   "cell_type": "code",
   "execution_count": 293,
   "metadata": {},
   "outputs": [
    {
     "data": {
      "text/plain": [
       "1999.0"
      ]
     },
     "execution_count": 293,
     "metadata": {},
     "output_type": "execute_result"
    }
   ],
   "source": [
    "# finding median of years to impute missing values\n",
    "med = []\n",
    "for i in year_list:\n",
    "    if type(i) is not str:\n",
    "        med.append(i)\n",
    "np.median(med)"
   ]
  },
  {
   "cell_type": "code",
   "execution_count": 259,
   "metadata": {
    "id": "119c3e2f"
   },
   "outputs": [],
   "source": [
    "for i in not_converted:     # imputing the missing values with median of years\n",
    "    year_list[i] = 1999"
   ]
  },
  {
   "cell_type": "code",
   "execution_count": 260,
   "metadata": {},
   "outputs": [],
   "source": [
    "movies_data['year'] = year_list"
   ]
  },
  {
   "cell_type": "code",
   "execution_count": 261,
   "metadata": {
    "colab": {
     "base_uri": "https://localhost:8080/",
     "height": 206
    },
    "id": "3309233a",
    "outputId": "771fb9d4-0c00-446a-d067-4038c7de99a9",
    "scrolled": true
   },
   "outputs": [
    {
     "data": {
      "text/html": [
       "<div>\n",
       "<style scoped>\n",
       "    .dataframe tbody tr th:only-of-type {\n",
       "        vertical-align: middle;\n",
       "    }\n",
       "\n",
       "    .dataframe tbody tr th {\n",
       "        vertical-align: top;\n",
       "    }\n",
       "\n",
       "    .dataframe thead th {\n",
       "        text-align: right;\n",
       "    }\n",
       "</style>\n",
       "<table border=\"1\" class=\"dataframe\">\n",
       "  <thead>\n",
       "    <tr style=\"text-align: right;\">\n",
       "      <th></th>\n",
       "      <th>movieId</th>\n",
       "      <th>title</th>\n",
       "      <th>genres</th>\n",
       "      <th>year</th>\n",
       "    </tr>\n",
       "  </thead>\n",
       "  <tbody>\n",
       "    <tr>\n",
       "      <th>0</th>\n",
       "      <td>1</td>\n",
       "      <td>Toy Story (1995)</td>\n",
       "      <td>Adventure|Animation|Children|Comedy|Fantasy</td>\n",
       "      <td>1995</td>\n",
       "    </tr>\n",
       "    <tr>\n",
       "      <th>1</th>\n",
       "      <td>2</td>\n",
       "      <td>Jumanji (1995)</td>\n",
       "      <td>Adventure|Children|Fantasy</td>\n",
       "      <td>1995</td>\n",
       "    </tr>\n",
       "    <tr>\n",
       "      <th>2</th>\n",
       "      <td>3</td>\n",
       "      <td>Grumpier Old Men (1995)</td>\n",
       "      <td>Comedy|Romance</td>\n",
       "      <td>1995</td>\n",
       "    </tr>\n",
       "    <tr>\n",
       "      <th>3</th>\n",
       "      <td>4</td>\n",
       "      <td>Waiting to Exhale (1995)</td>\n",
       "      <td>Comedy|Drama|Romance</td>\n",
       "      <td>1995</td>\n",
       "    </tr>\n",
       "    <tr>\n",
       "      <th>4</th>\n",
       "      <td>5</td>\n",
       "      <td>Father of the Bride Part II (1995)</td>\n",
       "      <td>Comedy</td>\n",
       "      <td>1995</td>\n",
       "    </tr>\n",
       "  </tbody>\n",
       "</table>\n",
       "</div>"
      ],
      "text/plain": [
       "   movieId                               title  \\\n",
       "0        1                    Toy Story (1995)   \n",
       "1        2                      Jumanji (1995)   \n",
       "2        3             Grumpier Old Men (1995)   \n",
       "3        4            Waiting to Exhale (1995)   \n",
       "4        5  Father of the Bride Part II (1995)   \n",
       "\n",
       "                                        genres  year  \n",
       "0  Adventure|Animation|Children|Comedy|Fantasy  1995  \n",
       "1                   Adventure|Children|Fantasy  1995  \n",
       "2                               Comedy|Romance  1995  \n",
       "3                         Comedy|Drama|Romance  1995  \n",
       "4                                       Comedy  1995  "
      ]
     },
     "execution_count": 261,
     "metadata": {},
     "output_type": "execute_result"
    }
   ],
   "source": [
    "movies_data.head()"
   ]
  },
  {
   "cell_type": "code",
   "execution_count": 262,
   "metadata": {},
   "outputs": [
    {
     "data": {
      "text/plain": [
       "movieId        40697\n",
       "title      Babylon 5\n",
       "genres        Sci-Fi\n",
       "year            1999\n",
       "Name: 6059, dtype: object"
      ]
     },
     "execution_count": 262,
     "metadata": {},
     "output_type": "execute_result"
    }
   ],
   "source": [
    "movies_data.iloc[6059]"
   ]
  },
  {
   "cell_type": "markdown",
   "metadata": {},
   "source": [
    "#### Now extracting all the genres which we have in the dataset which will help in finding the similarity among the movies as movies with the same genres are simillar to each other."
   ]
  },
  {
   "cell_type": "code",
   "execution_count": 263,
   "metadata": {
    "colab": {
     "base_uri": "https://localhost:8080/"
    },
    "id": "b1c86b87",
    "outputId": "c1f39d0e-ddaf-44cb-9e96-320f7a4dc090"
   },
   "outputs": [
    {
     "name": "stdout",
     "output_type": "stream",
     "text": [
      "['Adventure', 'Animation', 'Children', 'Comedy', 'Fantasy', 'Romance', 'Drama', 'Action', 'Crime', 'Thriller', 'Horror', 'Mystery', 'Sci-Fi', 'War', 'Musical', 'Documentary', 'IMAX', 'Western', 'Film-Noir', '(no genres listed)']\n"
     ]
    }
   ],
   "source": [
    "# Extracting list of uniqe genres in the entire genre columns\n",
    "genres_list = []\n",
    "for genre in movies_data['genres'] :\n",
    "    genre_splitted = genre.split('|') # splitting by '|' as diffent genres are seperated by '|' in 'generes' column\n",
    "    for item in genre_splitted :\n",
    "        if item not in genres_list :\n",
    "            genres_list.append(item)\n",
    "            \n",
    "print(genres_list)"
   ]
  },
  {
   "cell_type": "code",
   "execution_count": 264,
   "metadata": {
    "colab": {
     "base_uri": "https://localhost:8080/",
     "height": 315
    },
    "id": "cb469aea",
    "outputId": "4e23c54c-48ea-4b14-c709-7898cee8b9eb"
   },
   "outputs": [
    {
     "data": {
      "text/html": [
       "<div>\n",
       "<style scoped>\n",
       "    .dataframe tbody tr th:only-of-type {\n",
       "        vertical-align: middle;\n",
       "    }\n",
       "\n",
       "    .dataframe tbody tr th {\n",
       "        vertical-align: top;\n",
       "    }\n",
       "\n",
       "    .dataframe thead th {\n",
       "        text-align: right;\n",
       "    }\n",
       "</style>\n",
       "<table border=\"1\" class=\"dataframe\">\n",
       "  <thead>\n",
       "    <tr style=\"text-align: right;\">\n",
       "      <th></th>\n",
       "      <th>movieId</th>\n",
       "      <th>title</th>\n",
       "      <th>genres</th>\n",
       "      <th>year</th>\n",
       "      <th>Adventure</th>\n",
       "      <th>Animation</th>\n",
       "      <th>Children</th>\n",
       "      <th>Comedy</th>\n",
       "      <th>Fantasy</th>\n",
       "      <th>Romance</th>\n",
       "      <th>...</th>\n",
       "      <th>Horror</th>\n",
       "      <th>Mystery</th>\n",
       "      <th>Sci-Fi</th>\n",
       "      <th>War</th>\n",
       "      <th>Musical</th>\n",
       "      <th>Documentary</th>\n",
       "      <th>IMAX</th>\n",
       "      <th>Western</th>\n",
       "      <th>Film-Noir</th>\n",
       "      <th>(no genres listed)</th>\n",
       "    </tr>\n",
       "  </thead>\n",
       "  <tbody>\n",
       "    <tr>\n",
       "      <th>5613</th>\n",
       "      <td>27036</td>\n",
       "      <td>Merlin (1998)</td>\n",
       "      <td>Action|Adventure|Drama|Fantasy|Romance</td>\n",
       "      <td>1998</td>\n",
       "      <td>0</td>\n",
       "      <td>0</td>\n",
       "      <td>0</td>\n",
       "      <td>0</td>\n",
       "      <td>0</td>\n",
       "      <td>0</td>\n",
       "      <td>...</td>\n",
       "      <td>0</td>\n",
       "      <td>0</td>\n",
       "      <td>0</td>\n",
       "      <td>0</td>\n",
       "      <td>0</td>\n",
       "      <td>0</td>\n",
       "      <td>0</td>\n",
       "      <td>0</td>\n",
       "      <td>0</td>\n",
       "      <td>0</td>\n",
       "    </tr>\n",
       "    <tr>\n",
       "      <th>8770</th>\n",
       "      <td>128842</td>\n",
       "      <td>Dragonheart 3: The Sorcerer's Curse (2015)</td>\n",
       "      <td>Action|Adventure|Fantasy</td>\n",
       "      <td>2015</td>\n",
       "      <td>0</td>\n",
       "      <td>0</td>\n",
       "      <td>0</td>\n",
       "      <td>0</td>\n",
       "      <td>0</td>\n",
       "      <td>0</td>\n",
       "      <td>...</td>\n",
       "      <td>0</td>\n",
       "      <td>0</td>\n",
       "      <td>0</td>\n",
       "      <td>0</td>\n",
       "      <td>0</td>\n",
       "      <td>0</td>\n",
       "      <td>0</td>\n",
       "      <td>0</td>\n",
       "      <td>0</td>\n",
       "      <td>0</td>\n",
       "    </tr>\n",
       "  </tbody>\n",
       "</table>\n",
       "<p>2 rows × 24 columns</p>\n",
       "</div>"
      ],
      "text/plain": [
       "      movieId                                       title  \\\n",
       "5613    27036                               Merlin (1998)   \n",
       "8770   128842  Dragonheart 3: The Sorcerer's Curse (2015)   \n",
       "\n",
       "                                      genres  year  Adventure  Animation  \\\n",
       "5613  Action|Adventure|Drama|Fantasy|Romance  1998          0          0   \n",
       "8770                Action|Adventure|Fantasy  2015          0          0   \n",
       "\n",
       "      Children  Comedy  Fantasy  Romance  ...  Horror  Mystery  Sci-Fi  War  \\\n",
       "5613         0       0        0        0  ...       0        0       0    0   \n",
       "8770         0       0        0        0  ...       0        0       0    0   \n",
       "\n",
       "      Musical  Documentary  IMAX  Western  Film-Noir  (no genres listed)  \n",
       "5613        0            0     0        0          0                   0  \n",
       "8770        0            0     0        0          0                   0  \n",
       "\n",
       "[2 rows x 24 columns]"
      ]
     },
     "execution_count": 264,
     "metadata": {},
     "output_type": "execute_result"
    }
   ],
   "source": [
    "# Initial values is set to zero for all new genre columns\n",
    "for genre in genres_list :\n",
    "    movies_data[genre] = 0\n",
    "movies_data.sample(2)"
   ]
  },
  {
   "cell_type": "code",
   "execution_count": 265,
   "metadata": {
    "id": "d675f81d"
   },
   "outputs": [],
   "source": [
    "# Movie[movie, Genre] = 1, if Genre is present in movie\n",
    "for index , row in movies_data.iterrows() :\n",
    "    for current_genre in genres_list :\n",
    "        if current_genre in row['genres'] :\n",
    "            movies_data.loc[index, current_genre] = 1"
   ]
  },
  {
   "cell_type": "code",
   "execution_count": 266,
   "metadata": {
    "colab": {
     "base_uri": "https://localhost:8080/",
     "height": 367
    },
    "id": "df546375",
    "outputId": "14556d03-08b7-4972-9f6b-2e900d9f3c29",
    "scrolled": true
   },
   "outputs": [
    {
     "data": {
      "text/html": [
       "<div>\n",
       "<style scoped>\n",
       "    .dataframe tbody tr th:only-of-type {\n",
       "        vertical-align: middle;\n",
       "    }\n",
       "\n",
       "    .dataframe tbody tr th {\n",
       "        vertical-align: top;\n",
       "    }\n",
       "\n",
       "    .dataframe thead th {\n",
       "        text-align: right;\n",
       "    }\n",
       "</style>\n",
       "<table border=\"1\" class=\"dataframe\">\n",
       "  <thead>\n",
       "    <tr style=\"text-align: right;\">\n",
       "      <th></th>\n",
       "      <th>movieId</th>\n",
       "      <th>title</th>\n",
       "      <th>genres</th>\n",
       "      <th>year</th>\n",
       "      <th>Adventure</th>\n",
       "      <th>Animation</th>\n",
       "      <th>Children</th>\n",
       "      <th>Comedy</th>\n",
       "      <th>Fantasy</th>\n",
       "      <th>Romance</th>\n",
       "      <th>...</th>\n",
       "      <th>Horror</th>\n",
       "      <th>Mystery</th>\n",
       "      <th>Sci-Fi</th>\n",
       "      <th>War</th>\n",
       "      <th>Musical</th>\n",
       "      <th>Documentary</th>\n",
       "      <th>IMAX</th>\n",
       "      <th>Western</th>\n",
       "      <th>Film-Noir</th>\n",
       "      <th>(no genres listed)</th>\n",
       "    </tr>\n",
       "  </thead>\n",
       "  <tbody>\n",
       "    <tr>\n",
       "      <th>763</th>\n",
       "      <td>1005</td>\n",
       "      <td>D3: The Mighty Ducks (1996)</td>\n",
       "      <td>Children|Comedy</td>\n",
       "      <td>1996</td>\n",
       "      <td>0</td>\n",
       "      <td>0</td>\n",
       "      <td>1</td>\n",
       "      <td>1</td>\n",
       "      <td>0</td>\n",
       "      <td>0</td>\n",
       "      <td>...</td>\n",
       "      <td>0</td>\n",
       "      <td>0</td>\n",
       "      <td>0</td>\n",
       "      <td>0</td>\n",
       "      <td>0</td>\n",
       "      <td>0</td>\n",
       "      <td>0</td>\n",
       "      <td>0</td>\n",
       "      <td>0</td>\n",
       "      <td>0</td>\n",
       "    </tr>\n",
       "    <tr>\n",
       "      <th>7924</th>\n",
       "      <td>95497</td>\n",
       "      <td>Dragon Ball Z: Super Android 13! (Doragon bôru...</td>\n",
       "      <td>Action|Adventure|Animation</td>\n",
       "      <td>1992</td>\n",
       "      <td>1</td>\n",
       "      <td>1</td>\n",
       "      <td>0</td>\n",
       "      <td>0</td>\n",
       "      <td>0</td>\n",
       "      <td>0</td>\n",
       "      <td>...</td>\n",
       "      <td>0</td>\n",
       "      <td>0</td>\n",
       "      <td>0</td>\n",
       "      <td>0</td>\n",
       "      <td>0</td>\n",
       "      <td>0</td>\n",
       "      <td>0</td>\n",
       "      <td>0</td>\n",
       "      <td>0</td>\n",
       "      <td>0</td>\n",
       "    </tr>\n",
       "  </tbody>\n",
       "</table>\n",
       "<p>2 rows × 24 columns</p>\n",
       "</div>"
      ],
      "text/plain": [
       "      movieId                                              title  \\\n",
       "763      1005                        D3: The Mighty Ducks (1996)   \n",
       "7924    95497  Dragon Ball Z: Super Android 13! (Doragon bôru...   \n",
       "\n",
       "                          genres  year  Adventure  Animation  Children  \\\n",
       "763              Children|Comedy  1996          0          0         1   \n",
       "7924  Action|Adventure|Animation  1992          1          1         0   \n",
       "\n",
       "      Comedy  Fantasy  Romance  ...  Horror  Mystery  Sci-Fi  War  Musical  \\\n",
       "763        1        0        0  ...       0        0       0    0        0   \n",
       "7924       0        0        0  ...       0        0       0    0        0   \n",
       "\n",
       "      Documentary  IMAX  Western  Film-Noir  (no genres listed)  \n",
       "763             0     0        0          0                   0  \n",
       "7924            0     0        0          0                   0  \n",
       "\n",
       "[2 rows x 24 columns]"
      ]
     },
     "execution_count": 266,
     "metadata": {},
     "output_type": "execute_result"
    }
   ],
   "source": [
    "movies_data.sample(2)"
   ]
  },
  {
   "cell_type": "markdown",
   "metadata": {},
   "source": [
    "#### Taking the part of dataframe to find the similarity between the movies"
   ]
  },
  {
   "cell_type": "code",
   "execution_count": 267,
   "metadata": {
    "colab": {
     "base_uri": "https://localhost:8080/",
     "height": 211
    },
    "id": "ee6441b7",
    "outputId": "3e323d57-f2ea-424f-95e6-dc9931c0ca96",
    "scrolled": false
   },
   "outputs": [
    {
     "data": {
      "text/html": [
       "<div>\n",
       "<style scoped>\n",
       "    .dataframe tbody tr th:only-of-type {\n",
       "        vertical-align: middle;\n",
       "    }\n",
       "\n",
       "    .dataframe tbody tr th {\n",
       "        vertical-align: top;\n",
       "    }\n",
       "\n",
       "    .dataframe thead th {\n",
       "        text-align: right;\n",
       "    }\n",
       "</style>\n",
       "<table border=\"1\" class=\"dataframe\">\n",
       "  <thead>\n",
       "    <tr style=\"text-align: right;\">\n",
       "      <th></th>\n",
       "      <th>year</th>\n",
       "      <th>Adventure</th>\n",
       "      <th>Animation</th>\n",
       "      <th>Children</th>\n",
       "      <th>Comedy</th>\n",
       "      <th>Fantasy</th>\n",
       "      <th>Romance</th>\n",
       "      <th>Drama</th>\n",
       "      <th>Action</th>\n",
       "      <th>Crime</th>\n",
       "      <th>...</th>\n",
       "      <th>Horror</th>\n",
       "      <th>Mystery</th>\n",
       "      <th>Sci-Fi</th>\n",
       "      <th>War</th>\n",
       "      <th>Musical</th>\n",
       "      <th>Documentary</th>\n",
       "      <th>IMAX</th>\n",
       "      <th>Western</th>\n",
       "      <th>Film-Noir</th>\n",
       "      <th>(no genres listed)</th>\n",
       "    </tr>\n",
       "  </thead>\n",
       "  <tbody>\n",
       "    <tr>\n",
       "      <th>2475</th>\n",
       "      <td>2000</td>\n",
       "      <td>0</td>\n",
       "      <td>0</td>\n",
       "      <td>0</td>\n",
       "      <td>0</td>\n",
       "      <td>0</td>\n",
       "      <td>0</td>\n",
       "      <td>1</td>\n",
       "      <td>0</td>\n",
       "      <td>1</td>\n",
       "      <td>...</td>\n",
       "      <td>0</td>\n",
       "      <td>0</td>\n",
       "      <td>0</td>\n",
       "      <td>0</td>\n",
       "      <td>0</td>\n",
       "      <td>0</td>\n",
       "      <td>0</td>\n",
       "      <td>0</td>\n",
       "      <td>0</td>\n",
       "      <td>0</td>\n",
       "    </tr>\n",
       "    <tr>\n",
       "      <th>1582</th>\n",
       "      <td>1983</td>\n",
       "      <td>0</td>\n",
       "      <td>0</td>\n",
       "      <td>0</td>\n",
       "      <td>0</td>\n",
       "      <td>0</td>\n",
       "      <td>0</td>\n",
       "      <td>0</td>\n",
       "      <td>0</td>\n",
       "      <td>0</td>\n",
       "      <td>...</td>\n",
       "      <td>1</td>\n",
       "      <td>0</td>\n",
       "      <td>0</td>\n",
       "      <td>0</td>\n",
       "      <td>0</td>\n",
       "      <td>0</td>\n",
       "      <td>0</td>\n",
       "      <td>0</td>\n",
       "      <td>0</td>\n",
       "      <td>0</td>\n",
       "    </tr>\n",
       "  </tbody>\n",
       "</table>\n",
       "<p>2 rows × 21 columns</p>\n",
       "</div>"
      ],
      "text/plain": [
       "      year  Adventure  Animation  Children  Comedy  Fantasy  Romance  Drama  \\\n",
       "2475  2000          0          0         0       0        0        0      1   \n",
       "1582  1983          0          0         0       0        0        0      0   \n",
       "\n",
       "      Action  Crime  ...  Horror  Mystery  Sci-Fi  War  Musical  Documentary  \\\n",
       "2475       0      1  ...       0        0       0    0        0            0   \n",
       "1582       0      0  ...       1        0       0    0        0            0   \n",
       "\n",
       "      IMAX  Western  Film-Noir  (no genres listed)  \n",
       "2475     0        0          0                   0  \n",
       "1582     0        0          0                   0  \n",
       "\n",
       "[2 rows x 21 columns]"
      ]
     },
     "execution_count": 267,
     "metadata": {},
     "output_type": "execute_result"
    }
   ],
   "source": [
    "movies_sub = movies_data.iloc[:,3:]\n",
    "movies_sub.sample(2)"
   ]
  },
  {
   "cell_type": "markdown",
   "metadata": {
    "id": "USqBPbnqikdw"
   },
   "source": [
    "# Cosine similarity"
   ]
  },
  {
   "cell_type": "code",
   "execution_count": 268,
   "metadata": {
    "id": "8373147d"
   },
   "outputs": [],
   "source": [
    "cos_sim_movies = pd.DataFrame(cosine_similarity(movies_sub))\n",
    "cos_sim_movies.index = movies_data[\"title\"]\n",
    "cos_sim_movies.columns = movies_data[\"title\"]"
   ]
  },
  {
   "cell_type": "code",
   "execution_count": 269,
   "metadata": {
    "colab": {
     "base_uri": "https://localhost:8080/",
     "height": 643
    },
    "id": "a726d1cf",
    "outputId": "c7b71f54-c48b-431e-a216-60c7f9424d60",
    "scrolled": false
   },
   "outputs": [
    {
     "data": {
      "text/html": [
       "<div>\n",
       "<style scoped>\n",
       "    .dataframe tbody tr th:only-of-type {\n",
       "        vertical-align: middle;\n",
       "    }\n",
       "\n",
       "    .dataframe tbody tr th {\n",
       "        vertical-align: top;\n",
       "    }\n",
       "\n",
       "    .dataframe thead th {\n",
       "        text-align: right;\n",
       "    }\n",
       "</style>\n",
       "<table border=\"1\" class=\"dataframe\">\n",
       "  <thead>\n",
       "    <tr style=\"text-align: right;\">\n",
       "      <th>title</th>\n",
       "      <th>Toy Story (1995)</th>\n",
       "      <th>Jumanji (1995)</th>\n",
       "      <th>Grumpier Old Men (1995)</th>\n",
       "      <th>Waiting to Exhale (1995)</th>\n",
       "      <th>Father of the Bride Part II (1995)</th>\n",
       "      <th>Heat (1995)</th>\n",
       "      <th>Sabrina (1995)</th>\n",
       "      <th>Tom and Huck (1995)</th>\n",
       "      <th>Sudden Death (1995)</th>\n",
       "      <th>GoldenEye (1995)</th>\n",
       "      <th>...</th>\n",
       "      <th>Gintama: The Movie (2010)</th>\n",
       "      <th>anohana: The Flower We Saw That Day - The Movie (2013)</th>\n",
       "      <th>Silver Spoon (2014)</th>\n",
       "      <th>Love Live! The School Idol Movie (2015)</th>\n",
       "      <th>Jon Stewart Has Left the Building (2015)</th>\n",
       "      <th>Black Butler: Book of the Atlantic (2017)</th>\n",
       "      <th>No Game No Life: Zero (2017)</th>\n",
       "      <th>Flint (2017)</th>\n",
       "      <th>Bungo Stray Dogs: Dead Apple (2018)</th>\n",
       "      <th>Andrew Dice Clay: Dice Rules (1991)</th>\n",
       "    </tr>\n",
       "    <tr>\n",
       "      <th>title</th>\n",
       "      <th></th>\n",
       "      <th></th>\n",
       "      <th></th>\n",
       "      <th></th>\n",
       "      <th></th>\n",
       "      <th></th>\n",
       "      <th></th>\n",
       "      <th></th>\n",
       "      <th></th>\n",
       "      <th></th>\n",
       "      <th></th>\n",
       "      <th></th>\n",
       "      <th></th>\n",
       "      <th></th>\n",
       "      <th></th>\n",
       "      <th></th>\n",
       "      <th></th>\n",
       "      <th></th>\n",
       "      <th></th>\n",
       "      <th></th>\n",
       "      <th></th>\n",
       "    </tr>\n",
       "  </thead>\n",
       "  <tbody>\n",
       "    <tr>\n",
       "      <th>Toy Story (1995)</th>\n",
       "      <td>1.000000</td>\n",
       "      <td>1.000000</td>\n",
       "      <td>0.999999</td>\n",
       "      <td>0.999999</td>\n",
       "      <td>0.999999</td>\n",
       "      <td>0.999999</td>\n",
       "      <td>0.999999</td>\n",
       "      <td>1.000000</td>\n",
       "      <td>0.999999</td>\n",
       "      <td>0.999999</td>\n",
       "      <td>...</td>\n",
       "      <td>0.999999</td>\n",
       "      <td>0.999999</td>\n",
       "      <td>0.999999</td>\n",
       "      <td>0.999999</td>\n",
       "      <td>0.999999</td>\n",
       "      <td>1.000000</td>\n",
       "      <td>1.0</td>\n",
       "      <td>0.999999</td>\n",
       "      <td>0.999999</td>\n",
       "      <td>0.999999</td>\n",
       "    </tr>\n",
       "    <tr>\n",
       "      <th>Jumanji (1995)</th>\n",
       "      <td>1.000000</td>\n",
       "      <td>1.000000</td>\n",
       "      <td>0.999999</td>\n",
       "      <td>0.999999</td>\n",
       "      <td>0.999999</td>\n",
       "      <td>0.999999</td>\n",
       "      <td>0.999999</td>\n",
       "      <td>1.000000</td>\n",
       "      <td>0.999999</td>\n",
       "      <td>0.999999</td>\n",
       "      <td>...</td>\n",
       "      <td>0.999999</td>\n",
       "      <td>0.999999</td>\n",
       "      <td>0.999999</td>\n",
       "      <td>0.999999</td>\n",
       "      <td>0.999999</td>\n",
       "      <td>0.999999</td>\n",
       "      <td>1.0</td>\n",
       "      <td>1.000000</td>\n",
       "      <td>0.999999</td>\n",
       "      <td>0.999999</td>\n",
       "    </tr>\n",
       "    <tr>\n",
       "      <th>Grumpier Old Men (1995)</th>\n",
       "      <td>0.999999</td>\n",
       "      <td>0.999999</td>\n",
       "      <td>1.000000</td>\n",
       "      <td>1.000000</td>\n",
       "      <td>1.000000</td>\n",
       "      <td>0.999999</td>\n",
       "      <td>1.000000</td>\n",
       "      <td>0.999999</td>\n",
       "      <td>1.000000</td>\n",
       "      <td>0.999999</td>\n",
       "      <td>...</td>\n",
       "      <td>1.000000</td>\n",
       "      <td>1.000000</td>\n",
       "      <td>1.000000</td>\n",
       "      <td>1.000000</td>\n",
       "      <td>1.000000</td>\n",
       "      <td>1.000000</td>\n",
       "      <td>1.0</td>\n",
       "      <td>1.000000</td>\n",
       "      <td>1.000000</td>\n",
       "      <td>1.000000</td>\n",
       "    </tr>\n",
       "    <tr>\n",
       "      <th>Waiting to Exhale (1995)</th>\n",
       "      <td>0.999999</td>\n",
       "      <td>0.999999</td>\n",
       "      <td>1.000000</td>\n",
       "      <td>1.000000</td>\n",
       "      <td>1.000000</td>\n",
       "      <td>0.999999</td>\n",
       "      <td>1.000000</td>\n",
       "      <td>0.999999</td>\n",
       "      <td>0.999999</td>\n",
       "      <td>0.999999</td>\n",
       "      <td>...</td>\n",
       "      <td>0.999999</td>\n",
       "      <td>1.000000</td>\n",
       "      <td>1.000000</td>\n",
       "      <td>0.999999</td>\n",
       "      <td>0.999999</td>\n",
       "      <td>0.999999</td>\n",
       "      <td>1.0</td>\n",
       "      <td>1.000000</td>\n",
       "      <td>0.999999</td>\n",
       "      <td>1.000000</td>\n",
       "    </tr>\n",
       "    <tr>\n",
       "      <th>Father of the Bride Part II (1995)</th>\n",
       "      <td>0.999999</td>\n",
       "      <td>0.999999</td>\n",
       "      <td>1.000000</td>\n",
       "      <td>1.000000</td>\n",
       "      <td>1.000000</td>\n",
       "      <td>0.999999</td>\n",
       "      <td>1.000000</td>\n",
       "      <td>1.000000</td>\n",
       "      <td>1.000000</td>\n",
       "      <td>0.999999</td>\n",
       "      <td>...</td>\n",
       "      <td>1.000000</td>\n",
       "      <td>1.000000</td>\n",
       "      <td>1.000000</td>\n",
       "      <td>1.000000</td>\n",
       "      <td>1.000000</td>\n",
       "      <td>1.000000</td>\n",
       "      <td>1.0</td>\n",
       "      <td>1.000000</td>\n",
       "      <td>1.000000</td>\n",
       "      <td>1.000000</td>\n",
       "    </tr>\n",
       "  </tbody>\n",
       "</table>\n",
       "<p>5 rows × 9742 columns</p>\n",
       "</div>"
      ],
      "text/plain": [
       "title                               Toy Story (1995)  Jumanji (1995)  \\\n",
       "title                                                                  \n",
       "Toy Story (1995)                            1.000000        1.000000   \n",
       "Jumanji (1995)                              1.000000        1.000000   \n",
       "Grumpier Old Men (1995)                     0.999999        0.999999   \n",
       "Waiting to Exhale (1995)                    0.999999        0.999999   \n",
       "Father of the Bride Part II (1995)          0.999999        0.999999   \n",
       "\n",
       "title                               Grumpier Old Men (1995)  \\\n",
       "title                                                         \n",
       "Toy Story (1995)                                   0.999999   \n",
       "Jumanji (1995)                                     0.999999   \n",
       "Grumpier Old Men (1995)                            1.000000   \n",
       "Waiting to Exhale (1995)                           1.000000   \n",
       "Father of the Bride Part II (1995)                 1.000000   \n",
       "\n",
       "title                               Waiting to Exhale (1995)  \\\n",
       "title                                                          \n",
       "Toy Story (1995)                                    0.999999   \n",
       "Jumanji (1995)                                      0.999999   \n",
       "Grumpier Old Men (1995)                             1.000000   \n",
       "Waiting to Exhale (1995)                            1.000000   \n",
       "Father of the Bride Part II (1995)                  1.000000   \n",
       "\n",
       "title                               Father of the Bride Part II (1995)  \\\n",
       "title                                                                    \n",
       "Toy Story (1995)                                              0.999999   \n",
       "Jumanji (1995)                                                0.999999   \n",
       "Grumpier Old Men (1995)                                       1.000000   \n",
       "Waiting to Exhale (1995)                                      1.000000   \n",
       "Father of the Bride Part II (1995)                            1.000000   \n",
       "\n",
       "title                               Heat (1995)  Sabrina (1995)  \\\n",
       "title                                                             \n",
       "Toy Story (1995)                       0.999999        0.999999   \n",
       "Jumanji (1995)                         0.999999        0.999999   \n",
       "Grumpier Old Men (1995)                0.999999        1.000000   \n",
       "Waiting to Exhale (1995)               0.999999        1.000000   \n",
       "Father of the Bride Part II (1995)     0.999999        1.000000   \n",
       "\n",
       "title                               Tom and Huck (1995)  Sudden Death (1995)  \\\n",
       "title                                                                          \n",
       "Toy Story (1995)                               1.000000             0.999999   \n",
       "Jumanji (1995)                                 1.000000             0.999999   \n",
       "Grumpier Old Men (1995)                        0.999999             1.000000   \n",
       "Waiting to Exhale (1995)                       0.999999             0.999999   \n",
       "Father of the Bride Part II (1995)             1.000000             1.000000   \n",
       "\n",
       "title                               GoldenEye (1995)  ...  \\\n",
       "title                                                 ...   \n",
       "Toy Story (1995)                            0.999999  ...   \n",
       "Jumanji (1995)                              0.999999  ...   \n",
       "Grumpier Old Men (1995)                     0.999999  ...   \n",
       "Waiting to Exhale (1995)                    0.999999  ...   \n",
       "Father of the Bride Part II (1995)          0.999999  ...   \n",
       "\n",
       "title                               Gintama: The Movie (2010)  \\\n",
       "title                                                           \n",
       "Toy Story (1995)                                     0.999999   \n",
       "Jumanji (1995)                                       0.999999   \n",
       "Grumpier Old Men (1995)                              1.000000   \n",
       "Waiting to Exhale (1995)                             0.999999   \n",
       "Father of the Bride Part II (1995)                   1.000000   \n",
       "\n",
       "title                               anohana: The Flower We Saw That Day - The Movie (2013)  \\\n",
       "title                                                                                        \n",
       "Toy Story (1995)                                                             0.999999        \n",
       "Jumanji (1995)                                                               0.999999        \n",
       "Grumpier Old Men (1995)                                                      1.000000        \n",
       "Waiting to Exhale (1995)                                                     1.000000        \n",
       "Father of the Bride Part II (1995)                                           1.000000        \n",
       "\n",
       "title                               Silver Spoon (2014)  \\\n",
       "title                                                     \n",
       "Toy Story (1995)                               0.999999   \n",
       "Jumanji (1995)                                 0.999999   \n",
       "Grumpier Old Men (1995)                        1.000000   \n",
       "Waiting to Exhale (1995)                       1.000000   \n",
       "Father of the Bride Part II (1995)             1.000000   \n",
       "\n",
       "title                               Love Live! The School Idol Movie (2015)  \\\n",
       "title                                                                         \n",
       "Toy Story (1995)                                                   0.999999   \n",
       "Jumanji (1995)                                                     0.999999   \n",
       "Grumpier Old Men (1995)                                            1.000000   \n",
       "Waiting to Exhale (1995)                                           0.999999   \n",
       "Father of the Bride Part II (1995)                                 1.000000   \n",
       "\n",
       "title                               Jon Stewart Has Left the Building (2015)  \\\n",
       "title                                                                          \n",
       "Toy Story (1995)                                                    0.999999   \n",
       "Jumanji (1995)                                                      0.999999   \n",
       "Grumpier Old Men (1995)                                             1.000000   \n",
       "Waiting to Exhale (1995)                                            0.999999   \n",
       "Father of the Bride Part II (1995)                                  1.000000   \n",
       "\n",
       "title                               Black Butler: Book of the Atlantic (2017)  \\\n",
       "title                                                                           \n",
       "Toy Story (1995)                                                     1.000000   \n",
       "Jumanji (1995)                                                       0.999999   \n",
       "Grumpier Old Men (1995)                                              1.000000   \n",
       "Waiting to Exhale (1995)                                             0.999999   \n",
       "Father of the Bride Part II (1995)                                   1.000000   \n",
       "\n",
       "title                               No Game No Life: Zero (2017)  \\\n",
       "title                                                              \n",
       "Toy Story (1995)                                             1.0   \n",
       "Jumanji (1995)                                               1.0   \n",
       "Grumpier Old Men (1995)                                      1.0   \n",
       "Waiting to Exhale (1995)                                     1.0   \n",
       "Father of the Bride Part II (1995)                           1.0   \n",
       "\n",
       "title                               Flint (2017)  \\\n",
       "title                                              \n",
       "Toy Story (1995)                        0.999999   \n",
       "Jumanji (1995)                          1.000000   \n",
       "Grumpier Old Men (1995)                 1.000000   \n",
       "Waiting to Exhale (1995)                1.000000   \n",
       "Father of the Bride Part II (1995)      1.000000   \n",
       "\n",
       "title                               Bungo Stray Dogs: Dead Apple (2018)  \\\n",
       "title                                                                     \n",
       "Toy Story (1995)                                               0.999999   \n",
       "Jumanji (1995)                                                 0.999999   \n",
       "Grumpier Old Men (1995)                                        1.000000   \n",
       "Waiting to Exhale (1995)                                       0.999999   \n",
       "Father of the Bride Part II (1995)                             1.000000   \n",
       "\n",
       "title                               Andrew Dice Clay: Dice Rules (1991)  \n",
       "title                                                                    \n",
       "Toy Story (1995)                                               0.999999  \n",
       "Jumanji (1995)                                                 0.999999  \n",
       "Grumpier Old Men (1995)                                        1.000000  \n",
       "Waiting to Exhale (1995)                                       1.000000  \n",
       "Father of the Bride Part II (1995)                             1.000000  \n",
       "\n",
       "[5 rows x 9742 columns]"
      ]
     },
     "execution_count": 269,
     "metadata": {},
     "output_type": "execute_result"
    }
   ],
   "source": [
    "cos_sim_movies.head()"
   ]
  },
  {
   "cell_type": "markdown",
   "metadata": {},
   "source": [
    "#### Since the value of year is much higher than the value of genres(0,1), year is almost singlehandedly deciding the cosine similarity. Therefore, standardizing the year of movies to bring it to almost same scale as of the genres to get the meaningful result."
   ]
  },
  {
   "cell_type": "markdown",
   "metadata": {},
   "source": [
    "### Standardizing year of movie"
   ]
  },
  {
   "cell_type": "code",
   "execution_count": 270,
   "metadata": {
    "id": "b4b42b6b"
   },
   "outputs": [],
   "source": [
    "movies_sub[\"year\"] = (movies_sub[\"year\"] - movies_sub[\"year\"].mean())/(movies_sub[\"year\"].std())"
   ]
  },
  {
   "cell_type": "code",
   "execution_count": 271,
   "metadata": {
    "colab": {
     "base_uri": "https://localhost:8080/",
     "height": 305
    },
    "id": "bdcc02e5",
    "outputId": "09c8ddf5-c43c-4b55-8131-2c51e80b23db",
    "scrolled": false
   },
   "outputs": [
    {
     "data": {
      "text/html": [
       "<div>\n",
       "<style scoped>\n",
       "    .dataframe tbody tr th:only-of-type {\n",
       "        vertical-align: middle;\n",
       "    }\n",
       "\n",
       "    .dataframe tbody tr th {\n",
       "        vertical-align: top;\n",
       "    }\n",
       "\n",
       "    .dataframe thead th {\n",
       "        text-align: right;\n",
       "    }\n",
       "</style>\n",
       "<table border=\"1\" class=\"dataframe\">\n",
       "  <thead>\n",
       "    <tr style=\"text-align: right;\">\n",
       "      <th></th>\n",
       "      <th>year</th>\n",
       "      <th>Adventure</th>\n",
       "      <th>Animation</th>\n",
       "      <th>Children</th>\n",
       "      <th>Comedy</th>\n",
       "      <th>Fantasy</th>\n",
       "      <th>Romance</th>\n",
       "      <th>Drama</th>\n",
       "      <th>Action</th>\n",
       "      <th>Crime</th>\n",
       "      <th>...</th>\n",
       "      <th>Horror</th>\n",
       "      <th>Mystery</th>\n",
       "      <th>Sci-Fi</th>\n",
       "      <th>War</th>\n",
       "      <th>Musical</th>\n",
       "      <th>Documentary</th>\n",
       "      <th>IMAX</th>\n",
       "      <th>Western</th>\n",
       "      <th>Film-Noir</th>\n",
       "      <th>(no genres listed)</th>\n",
       "    </tr>\n",
       "  </thead>\n",
       "  <tbody>\n",
       "    <tr>\n",
       "      <th>0</th>\n",
       "      <td>0.020498</td>\n",
       "      <td>1</td>\n",
       "      <td>1</td>\n",
       "      <td>1</td>\n",
       "      <td>1</td>\n",
       "      <td>1</td>\n",
       "      <td>0</td>\n",
       "      <td>0</td>\n",
       "      <td>0</td>\n",
       "      <td>0</td>\n",
       "      <td>...</td>\n",
       "      <td>0</td>\n",
       "      <td>0</td>\n",
       "      <td>0</td>\n",
       "      <td>0</td>\n",
       "      <td>0</td>\n",
       "      <td>0</td>\n",
       "      <td>0</td>\n",
       "      <td>0</td>\n",
       "      <td>0</td>\n",
       "      <td>0</td>\n",
       "    </tr>\n",
       "    <tr>\n",
       "      <th>1</th>\n",
       "      <td>0.020498</td>\n",
       "      <td>1</td>\n",
       "      <td>0</td>\n",
       "      <td>1</td>\n",
       "      <td>0</td>\n",
       "      <td>1</td>\n",
       "      <td>0</td>\n",
       "      <td>0</td>\n",
       "      <td>0</td>\n",
       "      <td>0</td>\n",
       "      <td>...</td>\n",
       "      <td>0</td>\n",
       "      <td>0</td>\n",
       "      <td>0</td>\n",
       "      <td>0</td>\n",
       "      <td>0</td>\n",
       "      <td>0</td>\n",
       "      <td>0</td>\n",
       "      <td>0</td>\n",
       "      <td>0</td>\n",
       "      <td>0</td>\n",
       "    </tr>\n",
       "    <tr>\n",
       "      <th>2</th>\n",
       "      <td>0.020498</td>\n",
       "      <td>0</td>\n",
       "      <td>0</td>\n",
       "      <td>0</td>\n",
       "      <td>1</td>\n",
       "      <td>0</td>\n",
       "      <td>1</td>\n",
       "      <td>0</td>\n",
       "      <td>0</td>\n",
       "      <td>0</td>\n",
       "      <td>...</td>\n",
       "      <td>0</td>\n",
       "      <td>0</td>\n",
       "      <td>0</td>\n",
       "      <td>0</td>\n",
       "      <td>0</td>\n",
       "      <td>0</td>\n",
       "      <td>0</td>\n",
       "      <td>0</td>\n",
       "      <td>0</td>\n",
       "      <td>0</td>\n",
       "    </tr>\n",
       "    <tr>\n",
       "      <th>3</th>\n",
       "      <td>0.020498</td>\n",
       "      <td>0</td>\n",
       "      <td>0</td>\n",
       "      <td>0</td>\n",
       "      <td>1</td>\n",
       "      <td>0</td>\n",
       "      <td>1</td>\n",
       "      <td>1</td>\n",
       "      <td>0</td>\n",
       "      <td>0</td>\n",
       "      <td>...</td>\n",
       "      <td>0</td>\n",
       "      <td>0</td>\n",
       "      <td>0</td>\n",
       "      <td>0</td>\n",
       "      <td>0</td>\n",
       "      <td>0</td>\n",
       "      <td>0</td>\n",
       "      <td>0</td>\n",
       "      <td>0</td>\n",
       "      <td>0</td>\n",
       "    </tr>\n",
       "    <tr>\n",
       "      <th>4</th>\n",
       "      <td>0.020498</td>\n",
       "      <td>0</td>\n",
       "      <td>0</td>\n",
       "      <td>0</td>\n",
       "      <td>1</td>\n",
       "      <td>0</td>\n",
       "      <td>0</td>\n",
       "      <td>0</td>\n",
       "      <td>0</td>\n",
       "      <td>0</td>\n",
       "      <td>...</td>\n",
       "      <td>0</td>\n",
       "      <td>0</td>\n",
       "      <td>0</td>\n",
       "      <td>0</td>\n",
       "      <td>0</td>\n",
       "      <td>0</td>\n",
       "      <td>0</td>\n",
       "      <td>0</td>\n",
       "      <td>0</td>\n",
       "      <td>0</td>\n",
       "    </tr>\n",
       "  </tbody>\n",
       "</table>\n",
       "<p>5 rows × 21 columns</p>\n",
       "</div>"
      ],
      "text/plain": [
       "       year  Adventure  Animation  Children  Comedy  Fantasy  Romance  Drama  \\\n",
       "0  0.020498          1          1         1       1        1        0      0   \n",
       "1  0.020498          1          0         1       0        1        0      0   \n",
       "2  0.020498          0          0         0       1        0        1      0   \n",
       "3  0.020498          0          0         0       1        0        1      1   \n",
       "4  0.020498          0          0         0       1        0        0      0   \n",
       "\n",
       "   Action  Crime  ...  Horror  Mystery  Sci-Fi  War  Musical  Documentary  \\\n",
       "0       0      0  ...       0        0       0    0        0            0   \n",
       "1       0      0  ...       0        0       0    0        0            0   \n",
       "2       0      0  ...       0        0       0    0        0            0   \n",
       "3       0      0  ...       0        0       0    0        0            0   \n",
       "4       0      0  ...       0        0       0    0        0            0   \n",
       "\n",
       "   IMAX  Western  Film-Noir  (no genres listed)  \n",
       "0     0        0          0                   0  \n",
       "1     0        0          0                   0  \n",
       "2     0        0          0                   0  \n",
       "3     0        0          0                   0  \n",
       "4     0        0          0                   0  \n",
       "\n",
       "[5 rows x 21 columns]"
      ]
     },
     "execution_count": 271,
     "metadata": {},
     "output_type": "execute_result"
    }
   ],
   "source": [
    "movies_sub.head(5)"
   ]
  },
  {
   "cell_type": "code",
   "execution_count": 272,
   "metadata": {
    "id": "dd3f2c15"
   },
   "outputs": [],
   "source": [
    "# cosine similarity on standardize year data\n",
    "cos_sim_movies = pd.DataFrame(cosine_similarity(movies_sub))\n",
    "cos_sim_movies.index = movies_data[\"title\"]\n",
    "cos_sim_movies.columns = movies_data[\"title\"]"
   ]
  },
  {
   "cell_type": "code",
   "execution_count": 273,
   "metadata": {
    "colab": {
     "base_uri": "https://localhost:8080/",
     "height": 643
    },
    "id": "6c1f7e33",
    "outputId": "eb226ddf-8a17-4c8e-eb2a-7be56f32ad48",
    "scrolled": false
   },
   "outputs": [
    {
     "data": {
      "text/html": [
       "<div>\n",
       "<style scoped>\n",
       "    .dataframe tbody tr th:only-of-type {\n",
       "        vertical-align: middle;\n",
       "    }\n",
       "\n",
       "    .dataframe tbody tr th {\n",
       "        vertical-align: top;\n",
       "    }\n",
       "\n",
       "    .dataframe thead th {\n",
       "        text-align: right;\n",
       "    }\n",
       "</style>\n",
       "<table border=\"1\" class=\"dataframe\">\n",
       "  <thead>\n",
       "    <tr style=\"text-align: right;\">\n",
       "      <th>title</th>\n",
       "      <th>Toy Story (1995)</th>\n",
       "      <th>Jumanji (1995)</th>\n",
       "      <th>Grumpier Old Men (1995)</th>\n",
       "      <th>Waiting to Exhale (1995)</th>\n",
       "      <th>Father of the Bride Part II (1995)</th>\n",
       "      <th>Heat (1995)</th>\n",
       "      <th>Sabrina (1995)</th>\n",
       "      <th>Tom and Huck (1995)</th>\n",
       "      <th>Sudden Death (1995)</th>\n",
       "      <th>GoldenEye (1995)</th>\n",
       "      <th>...</th>\n",
       "      <th>Gintama: The Movie (2010)</th>\n",
       "      <th>anohana: The Flower We Saw That Day - The Movie (2013)</th>\n",
       "      <th>Silver Spoon (2014)</th>\n",
       "      <th>Love Live! The School Idol Movie (2015)</th>\n",
       "      <th>Jon Stewart Has Left the Building (2015)</th>\n",
       "      <th>Black Butler: Book of the Atlantic (2017)</th>\n",
       "      <th>No Game No Life: Zero (2017)</th>\n",
       "      <th>Flint (2017)</th>\n",
       "      <th>Bungo Stray Dogs: Dead Apple (2018)</th>\n",
       "      <th>Andrew Dice Clay: Dice Rules (1991)</th>\n",
       "    </tr>\n",
       "    <tr>\n",
       "      <th>title</th>\n",
       "      <th></th>\n",
       "      <th></th>\n",
       "      <th></th>\n",
       "      <th></th>\n",
       "      <th></th>\n",
       "      <th></th>\n",
       "      <th></th>\n",
       "      <th></th>\n",
       "      <th></th>\n",
       "      <th></th>\n",
       "      <th></th>\n",
       "      <th></th>\n",
       "      <th></th>\n",
       "      <th></th>\n",
       "      <th></th>\n",
       "      <th></th>\n",
       "      <th></th>\n",
       "      <th></th>\n",
       "      <th></th>\n",
       "      <th></th>\n",
       "      <th></th>\n",
       "    </tr>\n",
       "  </thead>\n",
       "  <tbody>\n",
       "    <tr>\n",
       "      <th>Toy Story (1995)</th>\n",
       "      <td>1.000000</td>\n",
       "      <td>0.774618</td>\n",
       "      <td>0.316314</td>\n",
       "      <td>0.258278</td>\n",
       "      <td>0.447289</td>\n",
       "      <td>0.000108</td>\n",
       "      <td>0.316314</td>\n",
       "      <td>0.632495</td>\n",
       "      <td>0.000188</td>\n",
       "      <td>0.258278</td>\n",
       "      <td>...</td>\n",
       "      <td>0.416535</td>\n",
       "      <td>0.264123</td>\n",
       "      <td>0.259665</td>\n",
       "      <td>0.307571</td>\n",
       "      <td>0.006783</td>\n",
       "      <td>0.578904</td>\n",
       "      <td>0.640529</td>\n",
       "      <td>0.007061</td>\n",
       "      <td>0.242026</td>\n",
       "      <td>0.437133</td>\n",
       "    </tr>\n",
       "    <tr>\n",
       "      <th>Jumanji (1995)</th>\n",
       "      <td>0.774618</td>\n",
       "      <td>1.000000</td>\n",
       "      <td>0.000171</td>\n",
       "      <td>0.000140</td>\n",
       "      <td>0.000243</td>\n",
       "      <td>0.000140</td>\n",
       "      <td>0.000171</td>\n",
       "      <td>0.816525</td>\n",
       "      <td>0.000243</td>\n",
       "      <td>0.333427</td>\n",
       "      <td>...</td>\n",
       "      <td>0.004537</td>\n",
       "      <td>0.006796</td>\n",
       "      <td>0.007038</td>\n",
       "      <td>0.008757</td>\n",
       "      <td>0.008757</td>\n",
       "      <td>0.253193</td>\n",
       "      <td>0.280145</td>\n",
       "      <td>0.009116</td>\n",
       "      <td>0.007879</td>\n",
       "      <td>-0.002270</td>\n",
       "    </tr>\n",
       "    <tr>\n",
       "      <th>Grumpier Old Men (1995)</th>\n",
       "      <td>0.316314</td>\n",
       "      <td>0.000171</td>\n",
       "      <td>1.000000</td>\n",
       "      <td>0.816525</td>\n",
       "      <td>0.707181</td>\n",
       "      <td>0.000171</td>\n",
       "      <td>1.000000</td>\n",
       "      <td>0.000210</td>\n",
       "      <td>0.000297</td>\n",
       "      <td>0.000171</td>\n",
       "      <td>...</td>\n",
       "      <td>0.332057</td>\n",
       "      <td>0.008324</td>\n",
       "      <td>0.410541</td>\n",
       "      <td>0.010724</td>\n",
       "      <td>0.010724</td>\n",
       "      <td>0.310086</td>\n",
       "      <td>0.343095</td>\n",
       "      <td>0.011164</td>\n",
       "      <td>0.009650</td>\n",
       "      <td>0.691125</td>\n",
       "    </tr>\n",
       "    <tr>\n",
       "      <th>Waiting to Exhale (1995)</th>\n",
       "      <td>0.258278</td>\n",
       "      <td>0.000140</td>\n",
       "      <td>0.816525</td>\n",
       "      <td>1.000000</td>\n",
       "      <td>0.577431</td>\n",
       "      <td>0.000140</td>\n",
       "      <td>0.816525</td>\n",
       "      <td>0.000171</td>\n",
       "      <td>0.000243</td>\n",
       "      <td>0.000140</td>\n",
       "      <td>...</td>\n",
       "      <td>0.271133</td>\n",
       "      <td>0.340971</td>\n",
       "      <td>0.663397</td>\n",
       "      <td>0.008757</td>\n",
       "      <td>0.008757</td>\n",
       "      <td>0.253193</td>\n",
       "      <td>0.280145</td>\n",
       "      <td>0.377223</td>\n",
       "      <td>0.007879</td>\n",
       "      <td>0.564321</td>\n",
       "    </tr>\n",
       "    <tr>\n",
       "      <th>Father of the Bride Part II (1995)</th>\n",
       "      <td>0.447289</td>\n",
       "      <td>0.000243</td>\n",
       "      <td>0.707181</td>\n",
       "      <td>0.577431</td>\n",
       "      <td>1.000000</td>\n",
       "      <td>0.000243</td>\n",
       "      <td>0.707181</td>\n",
       "      <td>0.000297</td>\n",
       "      <td>0.000420</td>\n",
       "      <td>0.000243</td>\n",
       "      <td>...</td>\n",
       "      <td>0.469550</td>\n",
       "      <td>0.011770</td>\n",
       "      <td>0.580532</td>\n",
       "      <td>0.015165</td>\n",
       "      <td>0.015165</td>\n",
       "      <td>0.438481</td>\n",
       "      <td>0.485158</td>\n",
       "      <td>0.015787</td>\n",
       "      <td>0.013646</td>\n",
       "      <td>0.977295</td>\n",
       "    </tr>\n",
       "  </tbody>\n",
       "</table>\n",
       "<p>5 rows × 9742 columns</p>\n",
       "</div>"
      ],
      "text/plain": [
       "title                               Toy Story (1995)  Jumanji (1995)  \\\n",
       "title                                                                  \n",
       "Toy Story (1995)                            1.000000        0.774618   \n",
       "Jumanji (1995)                              0.774618        1.000000   \n",
       "Grumpier Old Men (1995)                     0.316314        0.000171   \n",
       "Waiting to Exhale (1995)                    0.258278        0.000140   \n",
       "Father of the Bride Part II (1995)          0.447289        0.000243   \n",
       "\n",
       "title                               Grumpier Old Men (1995)  \\\n",
       "title                                                         \n",
       "Toy Story (1995)                                   0.316314   \n",
       "Jumanji (1995)                                     0.000171   \n",
       "Grumpier Old Men (1995)                            1.000000   \n",
       "Waiting to Exhale (1995)                           0.816525   \n",
       "Father of the Bride Part II (1995)                 0.707181   \n",
       "\n",
       "title                               Waiting to Exhale (1995)  \\\n",
       "title                                                          \n",
       "Toy Story (1995)                                    0.258278   \n",
       "Jumanji (1995)                                      0.000140   \n",
       "Grumpier Old Men (1995)                             0.816525   \n",
       "Waiting to Exhale (1995)                            1.000000   \n",
       "Father of the Bride Part II (1995)                  0.577431   \n",
       "\n",
       "title                               Father of the Bride Part II (1995)  \\\n",
       "title                                                                    \n",
       "Toy Story (1995)                                              0.447289   \n",
       "Jumanji (1995)                                                0.000243   \n",
       "Grumpier Old Men (1995)                                       0.707181   \n",
       "Waiting to Exhale (1995)                                      0.577431   \n",
       "Father of the Bride Part II (1995)                            1.000000   \n",
       "\n",
       "title                               Heat (1995)  Sabrina (1995)  \\\n",
       "title                                                             \n",
       "Toy Story (1995)                       0.000108        0.316314   \n",
       "Jumanji (1995)                         0.000140        0.000171   \n",
       "Grumpier Old Men (1995)                0.000171        1.000000   \n",
       "Waiting to Exhale (1995)               0.000140        0.816525   \n",
       "Father of the Bride Part II (1995)     0.000243        0.707181   \n",
       "\n",
       "title                               Tom and Huck (1995)  Sudden Death (1995)  \\\n",
       "title                                                                          \n",
       "Toy Story (1995)                               0.632495             0.000188   \n",
       "Jumanji (1995)                                 0.816525             0.000243   \n",
       "Grumpier Old Men (1995)                        0.000210             0.000297   \n",
       "Waiting to Exhale (1995)                       0.000171             0.000243   \n",
       "Father of the Bride Part II (1995)             0.000297             0.000420   \n",
       "\n",
       "title                               GoldenEye (1995)  ...  \\\n",
       "title                                                 ...   \n",
       "Toy Story (1995)                            0.258278  ...   \n",
       "Jumanji (1995)                              0.333427  ...   \n",
       "Grumpier Old Men (1995)                     0.000171  ...   \n",
       "Waiting to Exhale (1995)                    0.000140  ...   \n",
       "Father of the Bride Part II (1995)          0.000243  ...   \n",
       "\n",
       "title                               Gintama: The Movie (2010)  \\\n",
       "title                                                           \n",
       "Toy Story (1995)                                     0.416535   \n",
       "Jumanji (1995)                                       0.004537   \n",
       "Grumpier Old Men (1995)                              0.332057   \n",
       "Waiting to Exhale (1995)                             0.271133   \n",
       "Father of the Bride Part II (1995)                   0.469550   \n",
       "\n",
       "title                               anohana: The Flower We Saw That Day - The Movie (2013)  \\\n",
       "title                                                                                        \n",
       "Toy Story (1995)                                                             0.264123        \n",
       "Jumanji (1995)                                                               0.006796        \n",
       "Grumpier Old Men (1995)                                                      0.008324        \n",
       "Waiting to Exhale (1995)                                                     0.340971        \n",
       "Father of the Bride Part II (1995)                                           0.011770        \n",
       "\n",
       "title                               Silver Spoon (2014)  \\\n",
       "title                                                     \n",
       "Toy Story (1995)                               0.259665   \n",
       "Jumanji (1995)                                 0.007038   \n",
       "Grumpier Old Men (1995)                        0.410541   \n",
       "Waiting to Exhale (1995)                       0.663397   \n",
       "Father of the Bride Part II (1995)             0.580532   \n",
       "\n",
       "title                               Love Live! The School Idol Movie (2015)  \\\n",
       "title                                                                         \n",
       "Toy Story (1995)                                                   0.307571   \n",
       "Jumanji (1995)                                                     0.008757   \n",
       "Grumpier Old Men (1995)                                            0.010724   \n",
       "Waiting to Exhale (1995)                                           0.008757   \n",
       "Father of the Bride Part II (1995)                                 0.015165   \n",
       "\n",
       "title                               Jon Stewart Has Left the Building (2015)  \\\n",
       "title                                                                          \n",
       "Toy Story (1995)                                                    0.006783   \n",
       "Jumanji (1995)                                                      0.008757   \n",
       "Grumpier Old Men (1995)                                             0.010724   \n",
       "Waiting to Exhale (1995)                                            0.008757   \n",
       "Father of the Bride Part II (1995)                                  0.015165   \n",
       "\n",
       "title                               Black Butler: Book of the Atlantic (2017)  \\\n",
       "title                                                                           \n",
       "Toy Story (1995)                                                     0.578904   \n",
       "Jumanji (1995)                                                       0.253193   \n",
       "Grumpier Old Men (1995)                                              0.310086   \n",
       "Waiting to Exhale (1995)                                             0.253193   \n",
       "Father of the Bride Part II (1995)                                   0.438481   \n",
       "\n",
       "title                               No Game No Life: Zero (2017)  \\\n",
       "title                                                              \n",
       "Toy Story (1995)                                        0.640529   \n",
       "Jumanji (1995)                                          0.280145   \n",
       "Grumpier Old Men (1995)                                 0.343095   \n",
       "Waiting to Exhale (1995)                                0.280145   \n",
       "Father of the Bride Part II (1995)                      0.485158   \n",
       "\n",
       "title                               Flint (2017)  \\\n",
       "title                                              \n",
       "Toy Story (1995)                        0.007061   \n",
       "Jumanji (1995)                          0.009116   \n",
       "Grumpier Old Men (1995)                 0.011164   \n",
       "Waiting to Exhale (1995)                0.377223   \n",
       "Father of the Bride Part II (1995)      0.015787   \n",
       "\n",
       "title                               Bungo Stray Dogs: Dead Apple (2018)  \\\n",
       "title                                                                     \n",
       "Toy Story (1995)                                               0.242026   \n",
       "Jumanji (1995)                                                 0.007879   \n",
       "Grumpier Old Men (1995)                                        0.009650   \n",
       "Waiting to Exhale (1995)                                       0.007879   \n",
       "Father of the Bride Part II (1995)                             0.013646   \n",
       "\n",
       "title                               Andrew Dice Clay: Dice Rules (1991)  \n",
       "title                                                                    \n",
       "Toy Story (1995)                                               0.437133  \n",
       "Jumanji (1995)                                                -0.002270  \n",
       "Grumpier Old Men (1995)                                        0.691125  \n",
       "Waiting to Exhale (1995)                                       0.564321  \n",
       "Father of the Bride Part II (1995)                             0.977295  \n",
       "\n",
       "[5 rows x 9742 columns]"
      ]
     },
     "execution_count": 273,
     "metadata": {},
     "output_type": "execute_result"
    }
   ],
   "source": [
    "cos_sim_movies.head()"
   ]
  },
  {
   "cell_type": "markdown",
   "metadata": {},
   "source": [
    "# Reading the Ratings Dataset"
   ]
  },
  {
   "cell_type": "code",
   "execution_count": 274,
   "metadata": {
    "colab": {
     "base_uri": "https://localhost:8080/",
     "height": 206
    },
    "id": "e0943d3b",
    "outputId": "815c45a4-677c-4fe3-d6c4-9d02965df9a4"
   },
   "outputs": [
    {
     "data": {
      "text/html": [
       "<div>\n",
       "<style scoped>\n",
       "    .dataframe tbody tr th:only-of-type {\n",
       "        vertical-align: middle;\n",
       "    }\n",
       "\n",
       "    .dataframe tbody tr th {\n",
       "        vertical-align: top;\n",
       "    }\n",
       "\n",
       "    .dataframe thead th {\n",
       "        text-align: right;\n",
       "    }\n",
       "</style>\n",
       "<table border=\"1\" class=\"dataframe\">\n",
       "  <thead>\n",
       "    <tr style=\"text-align: right;\">\n",
       "      <th></th>\n",
       "      <th>userId</th>\n",
       "      <th>movieId</th>\n",
       "      <th>rating</th>\n",
       "      <th>timestamp</th>\n",
       "    </tr>\n",
       "  </thead>\n",
       "  <tbody>\n",
       "    <tr>\n",
       "      <th>0</th>\n",
       "      <td>1</td>\n",
       "      <td>1</td>\n",
       "      <td>4.0</td>\n",
       "      <td>964982703</td>\n",
       "    </tr>\n",
       "    <tr>\n",
       "      <th>1</th>\n",
       "      <td>1</td>\n",
       "      <td>3</td>\n",
       "      <td>4.0</td>\n",
       "      <td>964981247</td>\n",
       "    </tr>\n",
       "    <tr>\n",
       "      <th>2</th>\n",
       "      <td>1</td>\n",
       "      <td>6</td>\n",
       "      <td>4.0</td>\n",
       "      <td>964982224</td>\n",
       "    </tr>\n",
       "    <tr>\n",
       "      <th>3</th>\n",
       "      <td>1</td>\n",
       "      <td>47</td>\n",
       "      <td>5.0</td>\n",
       "      <td>964983815</td>\n",
       "    </tr>\n",
       "    <tr>\n",
       "      <th>4</th>\n",
       "      <td>1</td>\n",
       "      <td>50</td>\n",
       "      <td>5.0</td>\n",
       "      <td>964982931</td>\n",
       "    </tr>\n",
       "  </tbody>\n",
       "</table>\n",
       "</div>"
      ],
      "text/plain": [
       "   userId  movieId  rating  timestamp\n",
       "0       1        1     4.0  964982703\n",
       "1       1        3     4.0  964981247\n",
       "2       1        6     4.0  964982224\n",
       "3       1       47     5.0  964983815\n",
       "4       1       50     5.0  964982931"
      ]
     },
     "execution_count": 274,
     "metadata": {},
     "output_type": "execute_result"
    }
   ],
   "source": [
    "ratings_data = pd.read_csv(\"ratings.csv\")\n",
    "ratings_data.head()"
   ]
  },
  {
   "cell_type": "markdown",
   "metadata": {},
   "source": [
    "# Finding user preferences :-\n",
    "#### In this function, finding what the user likes to watch i.e. the movies which are rated high by the user."
   ]
  },
  {
   "cell_type": "code",
   "execution_count": 275,
   "metadata": {
    "id": "izpwwsSKLtKy"
   },
   "outputs": [],
   "source": [
    "def top_rated_watched_movies(user_id, top_n_movies=5):\n",
    "    max_rating = max(ratings_data.loc[(ratings_data.userId==user_id), \"rating\"]) \n",
    "    if max_rating < 4:\n",
    "        print(\"None liked so far!\")\n",
    "        return None\n",
    "    else :\n",
    "        movie_5 = ratings_data.loc[(ratings_data.userId==user_id) & (ratings_data.rating==5), \"movieId\"] \n",
    "        movie_4 = ratings_data.loc[(ratings_data.userId==user_id) & (ratings_data.rating==4), \"movieId\"]\n",
    "        \n",
    "        # If number of 5-rated movies are more than top_n_movies, then return a list of randomly selected movie\n",
    "        if len(movie_5) > top_n_movies:\n",
    "            return (list(np.random.choice(movie_5,top_n_movies, replace=False)))\n",
    "        \n",
    "        # If the total number of 5-rated movies & 4-rated movies are less than top_n_movies, then return a list of movie rated 4  and 5\n",
    "        elif len(movie_5) + len(movie_4) < top_n_movies:\n",
    "            return (list(movie_5)+list(movie_4))\n",
    "        \n",
    "        # otherwise return a list containing all the 5-rated movies and a few random selection \n",
    "        else: \n",
    "            return (list(movie_5) + list(np.random.choice (movie_4, top_n_movies-len(movie_5), replace=False)))\n"
   ]
  },
  {
   "cell_type": "code",
   "execution_count": 276,
   "metadata": {
    "id": "lxazIyTrM03B"
   },
   "outputs": [
    {
     "data": {
      "text/plain": [
       "[33794, 71579, 8533, 79091, 81845, 91529]"
      ]
     },
     "execution_count": 276,
     "metadata": {},
     "output_type": "execute_result"
    }
   ],
   "source": [
    "top_rated_watched_movies(10,6)   # top rated 6 movies of user 10"
   ]
  },
  {
   "cell_type": "markdown",
   "metadata": {},
   "source": [
    "# Finding Similar movies :-\n",
    "#### In this function, finding the similar movies with respect to the given movie based on cosine similarity."
   ]
  },
  {
   "cell_type": "code",
   "execution_count": 277,
   "metadata": {
    "id": "jUOPjHQ1M3dU"
   },
   "outputs": [],
   "source": [
    "def get_similar_movies(movie_id, sim=0.95):\n",
    "\n",
    "    # Get the movie title for the given movie id\n",
    "    title= movies_data.loc[movies_data.movieId==movie_id, \"title\"]\n",
    "    title = np.array(title)[0]\n",
    "\n",
    "    # Extract the row containing the movie ID from the similarity matrix \n",
    "    similarity= cos_sim_movies.loc[title,:]\n",
    "\n",
    "    # scores of all movies\n",
    "    scores = np.array(similarity)\n",
    "\n",
    "    # Related movies\n",
    "    related= cos_sim_movies.loc[title, :][cos_sim_movies.loc[title,:]> sim].index\n",
    "\n",
    "    return list(related)"
   ]
  },
  {
   "cell_type": "code",
   "execution_count": 278,
   "metadata": {
    "id": "WM1yV3kIM-UB"
   },
   "outputs": [
    {
     "data": {
      "text/plain": [
       "['GoldenEye (1995)',\n",
       " 'Broken Arrow (1996)',\n",
       " 'Cliffhanger (1993)',\n",
       " 'Executive Decision (1996)',\n",
       " 'Surviving the Game (1994)',\n",
       " 'Rock, The (1996)',\n",
       " 'Chain Reaction (1996)',\n",
       " 'Maximum Risk (1996)',\n",
       " 'Die Hard 2 (1990)',\n",
       " 'Anaconda (1997)',\n",
       " 'Con Air (1997)',\n",
       " 'Hunt for Red October, The (1990)',\n",
       " 'Tomorrow Never Dies (1997)',\n",
       " 'View to a Kill, A (1985)',\n",
       " 'Rambo: First Blood Part II (1985)',\n",
       " 'Licence to Kill (1989)',\n",
       " 'World Is Not Enough, The (1999)',\n",
       " 'Mission: Impossible II (2000)',\n",
       " 'Living Daylights, The (1987)',\n",
       " 'Die Another Day (2002)',\n",
       " 'Raiders of the Lost Ark: The Adaptation (1989)']"
      ]
     },
     "execution_count": 278,
     "metadata": {},
     "output_type": "execute_result"
    }
   ],
   "source": [
    "get_similar_movies(10)"
   ]
  },
  {
   "cell_type": "markdown",
   "metadata": {},
   "source": [
    "# Watchlist of user :-\n",
    "#### In this function, finding the watchlist of the user it is not good idea to recommend the movies which are already watched by the user."
   ]
  },
  {
   "cell_type": "code",
   "execution_count": 279,
   "metadata": {
    "id": "Faien1c0NAbA"
   },
   "outputs": [],
   "source": [
    "# The below function will return all the movies watched by an user \n",
    "def user_watch_list(user_id): \n",
    "\n",
    "    id = list(ratings_data.loc[ratings_data.userId==user_id, \"movieId\"])  # id's of all movies watched by a user\n",
    "    watched_user = list()\n",
    "    for j in id :\n",
    "        watched_user.append((movies_data.loc[movies_data.movieId == j, [\"title\"]].iloc[0,0])) # appending the movie titles watched by user in list\n",
    "    \n",
    "    return watched_user"
   ]
  },
  {
   "cell_type": "code",
   "execution_count": 280,
   "metadata": {},
   "outputs": [
    {
     "data": {
      "text/plain": [
       "['Shawshank Redemption, The (1994)',\n",
       " 'Tommy Boy (1995)',\n",
       " 'Good Will Hunting (1997)',\n",
       " 'Gladiator (2000)',\n",
       " 'Kill Bill: Vol. 1 (2003)',\n",
       " 'Collateral (2004)',\n",
       " 'Talladega Nights: The Ballad of Ricky Bobby (2006)',\n",
       " 'Departed, The (2006)',\n",
       " 'Dark Knight, The (2008)',\n",
       " 'Step Brothers (2008)',\n",
       " 'Inglourious Basterds (2009)',\n",
       " 'Zombieland (2009)',\n",
       " 'Shutter Island (2010)',\n",
       " 'Exit Through the Gift Shop (2010)',\n",
       " 'Inception (2010)',\n",
       " 'Town, The (2010)',\n",
       " 'Inside Job (2010)',\n",
       " 'Louis C.K.: Hilarious (2010)',\n",
       " 'Warrior (2011)',\n",
       " 'Dark Knight Rises, The (2012)',\n",
       " 'Girl with the Dragon Tattoo, The (2011)',\n",
       " 'Django Unchained (2012)',\n",
       " 'Wolf of Wall Street, The (2013)',\n",
       " 'Interstellar (2014)',\n",
       " 'Whiplash (2014)',\n",
       " 'The Drop (2014)',\n",
       " 'Ex Machina (2015)',\n",
       " 'Mad Max: Fury Road (2015)',\n",
       " 'The Jinx: The Life and Deaths of Robert Durst (2015)']"
      ]
     },
     "execution_count": 280,
     "metadata": {},
     "output_type": "execute_result"
    }
   ],
   "source": [
    "user_watch_list(2)"
   ]
  },
  {
   "cell_type": "markdown",
   "metadata": {},
   "source": [
    "# Content-Based Recommender System"
   ]
  },
  {
   "cell_type": "code",
   "execution_count": 281,
   "metadata": {},
   "outputs": [
    {
     "data": {
      "text/html": [
       "<div>\n",
       "<style scoped>\n",
       "    .dataframe tbody tr th:only-of-type {\n",
       "        vertical-align: middle;\n",
       "    }\n",
       "\n",
       "    .dataframe tbody tr th {\n",
       "        vertical-align: top;\n",
       "    }\n",
       "\n",
       "    .dataframe thead th {\n",
       "        text-align: right;\n",
       "    }\n",
       "</style>\n",
       "<table border=\"1\" class=\"dataframe\">\n",
       "  <thead>\n",
       "    <tr style=\"text-align: right;\">\n",
       "      <th></th>\n",
       "      <th>movieId</th>\n",
       "      <th>title</th>\n",
       "    </tr>\n",
       "  </thead>\n",
       "  <tbody>\n",
       "    <tr>\n",
       "      <th>0</th>\n",
       "      <td>1</td>\n",
       "      <td>Toy Story (1995)</td>\n",
       "    </tr>\n",
       "    <tr>\n",
       "      <th>1</th>\n",
       "      <td>2</td>\n",
       "      <td>Jumanji (1995)</td>\n",
       "    </tr>\n",
       "    <tr>\n",
       "      <th>2</th>\n",
       "      <td>3</td>\n",
       "      <td>Grumpier Old Men (1995)</td>\n",
       "    </tr>\n",
       "    <tr>\n",
       "      <th>3</th>\n",
       "      <td>4</td>\n",
       "      <td>Waiting to Exhale (1995)</td>\n",
       "    </tr>\n",
       "    <tr>\n",
       "      <th>4</th>\n",
       "      <td>5</td>\n",
       "      <td>Father of the Bride Part II (1995)</td>\n",
       "    </tr>\n",
       "  </tbody>\n",
       "</table>\n",
       "</div>"
      ],
      "text/plain": [
       "   movieId                               title\n",
       "0        1                    Toy Story (1995)\n",
       "1        2                      Jumanji (1995)\n",
       "2        3             Grumpier Old Men (1995)\n",
       "3        4            Waiting to Exhale (1995)\n",
       "4        5  Father of the Bride Part II (1995)"
      ]
     },
     "execution_count": 281,
     "metadata": {},
     "output_type": "execute_result"
    }
   ],
   "source": [
    "# Creating a dataset which only has movieid and title\n",
    "movie_list = movies_data[[\"movieId\", \"title\"]] \n",
    "movie_list.head() "
   ]
  },
  {
   "cell_type": "code",
   "execution_count": 282,
   "metadata": {},
   "outputs": [
    {
     "name": "stdout",
     "output_type": "stream",
     "text": [
      "[60756, 122882, 106782, 131724, 89774]\n"
     ]
    }
   ],
   "source": [
    "# For a given user get the list of top-N rated watched movies\n",
    "N=5\n",
    "User = 2\n",
    "top = top_rated_watched_movies(User, N)\n",
    "print(top)"
   ]
  },
  {
   "cell_type": "code",
   "execution_count": 283,
   "metadata": {},
   "outputs": [
    {
     "data": {
      "text/html": [
       "<div>\n",
       "<style scoped>\n",
       "    .dataframe tbody tr th:only-of-type {\n",
       "        vertical-align: middle;\n",
       "    }\n",
       "\n",
       "    .dataframe tbody tr th {\n",
       "        vertical-align: top;\n",
       "    }\n",
       "\n",
       "    .dataframe thead th {\n",
       "        text-align: right;\n",
       "    }\n",
       "</style>\n",
       "<table border=\"1\" class=\"dataframe\">\n",
       "  <thead>\n",
       "    <tr style=\"text-align: right;\">\n",
       "      <th></th>\n",
       "      <th>movieId</th>\n",
       "      <th>title</th>\n",
       "    </tr>\n",
       "  </thead>\n",
       "  <tbody>\n",
       "    <tr>\n",
       "      <th>8828</th>\n",
       "      <td>131724</td>\n",
       "      <td>The Jinx: The Life and Deaths of Robert Durst ...</td>\n",
       "    </tr>\n",
       "  </tbody>\n",
       "</table>\n",
       "</div>"
      ],
      "text/plain": [
       "      movieId                                              title\n",
       "8828   131724  The Jinx: The Life and Deaths of Robert Durst ..."
      ]
     },
     "execution_count": 283,
     "metadata": {},
     "output_type": "execute_result"
    }
   ],
   "source": [
    "movie_list.loc[movie_list.movieId==131724,:]"
   ]
  },
  {
   "cell_type": "code",
   "execution_count": 284,
   "metadata": {},
   "outputs": [
    {
     "data": {
      "text/plain": [
       "['Toy Story (1995)',\n",
       " 'Antz (1998)',\n",
       " 'Toy Story 2 (1999)',\n",
       " 'Adventures of Rocky and Bullwinkle, The (2000)',\n",
       " \"Emperor's New Groove, The (2000)\",\n",
       " 'Monsters, Inc. (2001)',\n",
       " 'Wild, The (2006)',\n",
       " 'Shrek the Third (2007)',\n",
       " 'Tale of Despereaux, The (2008)',\n",
       " 'Asterix and the Vikings (Astérix et les Vikings) (2006)']"
      ]
     },
     "execution_count": 284,
     "metadata": {},
     "output_type": "execute_result"
    }
   ],
   "source": [
    "# Get the most similar movie corresponding to the list of above movies \n",
    "i = 1 \n",
    "sim_movies = get_similar_movies(top[i]) \n",
    "sim_movies"
   ]
  },
  {
   "cell_type": "code",
   "execution_count": 285,
   "metadata": {},
   "outputs": [
    {
     "data": {
      "text/plain": [
       "['Shawshank Redemption, The (1994)',\n",
       " 'Tommy Boy (1995)',\n",
       " 'Good Will Hunting (1997)',\n",
       " 'Gladiator (2000)',\n",
       " 'Kill Bill: Vol. 1 (2003)',\n",
       " 'Collateral (2004)',\n",
       " 'Talladega Nights: The Ballad of Ricky Bobby (2006)',\n",
       " 'Departed, The (2006)',\n",
       " 'Dark Knight, The (2008)',\n",
       " 'Step Brothers (2008)',\n",
       " 'Inglourious Basterds (2009)',\n",
       " 'Zombieland (2009)',\n",
       " 'Shutter Island (2010)',\n",
       " 'Exit Through the Gift Shop (2010)',\n",
       " 'Inception (2010)',\n",
       " 'Town, The (2010)',\n",
       " 'Inside Job (2010)',\n",
       " 'Louis C.K.: Hilarious (2010)',\n",
       " 'Warrior (2011)',\n",
       " 'Dark Knight Rises, The (2012)',\n",
       " 'Girl with the Dragon Tattoo, The (2011)',\n",
       " 'Django Unchained (2012)',\n",
       " 'Wolf of Wall Street, The (2013)',\n",
       " 'Interstellar (2014)',\n",
       " 'Whiplash (2014)',\n",
       " 'The Drop (2014)',\n",
       " 'Ex Machina (2015)',\n",
       " 'Mad Max: Fury Road (2015)',\n",
       " 'The Jinx: The Life and Deaths of Robert Durst (2015)']"
      ]
     },
     "execution_count": 285,
     "metadata": {},
     "output_type": "execute_result"
    }
   ],
   "source": [
    "# Get the watchlist of the user\n",
    "user_watch_list(User)"
   ]
  },
  {
   "cell_type": "code",
   "execution_count": 286,
   "metadata": {},
   "outputs": [],
   "source": [
    "# movies in the similarity list which the user has not watched yet\n",
    "not_watched = set(sim_movies)-set(user_watch_list(User))"
   ]
  },
  {
   "cell_type": "code",
   "execution_count": 289,
   "metadata": {},
   "outputs": [
    {
     "data": {
      "text/plain": [
       "['Shrek the Third (2007)',\n",
       " \"Emperor's New Groove, The (2000)\",\n",
       " 'Monsters, Inc. (2001)',\n",
       " 'Toy Story (1995)',\n",
       " 'Tale of Despereaux, The (2008)',\n",
       " 'Antz (1998)',\n",
       " 'Wild, The (2006)',\n",
       " 'Asterix and the Vikings (Astérix et les Vikings) (2006)',\n",
       " 'Adventures of Rocky and Bullwinkle, The (2000)',\n",
       " 'Toy Story 2 (1999)']"
      ]
     },
     "execution_count": 289,
     "metadata": {},
     "output_type": "execute_result"
    }
   ],
   "source": [
    "not_watched = list(not_watched)\n",
    "not_watched"
   ]
  },
  {
   "cell_type": "code",
   "execution_count": 290,
   "metadata": {},
   "outputs": [
    {
     "data": {
      "text/plain": [
       "title\n",
       "Shrek the Third (2007)                                     0.325736\n",
       "Emperor's New Groove, The (2000)                           0.256366\n",
       "Monsters, Inc. (2001)                                      0.267007\n",
       "Toy Story (1995)                                           0.200330\n",
       "Tale of Despereaux, The (2008)                             0.334587\n",
       "Antz (1998)                                                0.234468\n",
       "Wild, The (2006)                                           0.316606\n",
       "Asterix and the Vikings (Astérix et les Vikings) (2006)    0.316606\n",
       "Adventures of Rocky and Bullwinkle, The (2000)             0.256366\n",
       "Toy Story 2 (1999)                                         0.245515\n",
       "Name: Mad Max: Fury Road (2015), dtype: float64"
      ]
     },
     "execution_count": 290,
     "metadata": {},
     "output_type": "execute_result"
    }
   ],
   "source": [
    "#Get the scores of the movies in the not_watched list from the similarity matrix WRT the selected movie\n",
    "\n",
    "#movie_name = np.array(movie_list.loc[movie_list.movieId==top[i], \"title\"])[0] \n",
    "#cos_sim_movies.loc[movie_name, not_watched]"
   ]
  },
  {
   "cell_type": "code",
   "execution_count": null,
   "metadata": {},
   "outputs": [],
   "source": []
  }
 ],
 "metadata": {
  "colab": {
   "collapsed_sections": [],
   "name": "Copy of Content based Recommender system.ipynb",
   "provenance": []
  },
  "kernelspec": {
   "display_name": "Python 3",
   "language": "python",
   "name": "python3"
  },
  "language_info": {
   "codemirror_mode": {
    "name": "ipython",
    "version": 3
   },
   "file_extension": ".py",
   "mimetype": "text/x-python",
   "name": "python",
   "nbconvert_exporter": "python",
   "pygments_lexer": "ipython3",
   "version": "3.8.5"
  }
 },
 "nbformat": 4,
 "nbformat_minor": 5
}
